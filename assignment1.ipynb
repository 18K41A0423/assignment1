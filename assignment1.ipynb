{
  "nbformat": 4,
  "nbformat_minor": 0,
  "metadata": {
    "colab": {
      "name": "assignment1.ipynb",
      "provenance": []
    },
    "kernelspec": {
      "name": "python3",
      "display_name": "Python 3"
    }
  },
  "cells": [
    {
      "cell_type": "code",
      "metadata": {
        "id": "-DHXguD9MvsG",
        "colab_type": "code",
        "colab": {
          "base_uri": "https://localhost:8080/",
          "height": 50
        },
        "outputId": "0cdf7755-c2d6-41df-98c7-8448075c8e73"
      },
      "source": [
        "#1.Develop a code for the scenario predict zodiac sign\n",
        "year=int(input(\"enter the year for zodiac sign:\"))\n",
        "if year%12==0:\n",
        "    print(\"monkey\")\n",
        "elif year%12==1:\n",
        "    print(\"rooster\")\n",
        "elif year%12==2:\n",
        "    print(\"dog\")\n",
        "elif year%12==3:\n",
        "    print(\"pig\")\n",
        "elif year%12==4:\n",
        "    print(\"rat\")\n",
        "elif year%12==5:\n",
        "    print(\"ox\")\n",
        "elif year%12==6:\n",
        "    print(\"tiger\")\n",
        "elif year%12==7:\n",
        "    print(\"rabbit\")\n",
        "elif year%12==8:\n",
        "    print(\"dragon\")\n",
        "elif year%12==9:\n",
        "    print(\"snake\")\n",
        "elif year%12==10:\n",
        "    print(\"horse\")\n",
        "else:print(\"sheep\")"
      ],
      "execution_count": null,
      "outputs": [
        {
          "output_type": "stream",
          "text": [
            "enter the year for zodiac sign:2002\n",
            "horse\n"
          ],
          "name": "stdout"
        }
      ]
    },
    {
      "cell_type": "code",
      "metadata": {
        "id": "FB-GBLdURJ_R",
        "colab_type": "code",
        "colab": {
          "base_uri": "https://localhost:8080/",
          "height": 67
        },
        "outputId": "1fb31464-0928-4a2c-9e5f-613a5a0ec5ce"
      },
      "source": [
        "#2. transport problem\n",
        "dist=int(input(\"distance to be travel:\"))\n",
        "weight=int(input(\"weight of the goods:\"))\n",
        "if dist>=500:\n",
        "    if weight>=100:\n",
        "        cost=5\n",
        "    elif weight>=10 and weight<100:\n",
        "        cost=6\n",
        "    else:cost=7\n",
        "else:\n",
        "    if weight>=100:\n",
        "        cost=8\n",
        "    else:cost=5\n",
        "print(\"amount to be charged:\",dist*cost)"
      ],
      "execution_count": 16,
      "outputs": [
        {
          "output_type": "stream",
          "text": [
            "distance to be travel:600\n",
            "weight of the goods:50\n",
            "amount to be charged: 3600\n"
          ],
          "name": "stdout"
        }
      ]
    },
    {
      "cell_type": "code",
      "metadata": {
        "id": "Ja_eK7tMRo4V",
        "colab_type": "code",
        "colab": {
          "base_uri": "https://localhost:8080/",
          "height": 67
        },
        "outputId": "902aab1a-19f2-46cc-b765-10078aa221e7"
      },
      "source": [
        "#3 The Entertainment paradise\n",
        "seat=str(input(\"Type of seat:\"))\n",
        "pm=str(input(\"Payment Mode:\"))\n",
        "if seat=='Stalls':\n",
        "    if pm=='Cash':\n",
        "        dp=625*0.1\n",
        "        price=625-dp\n",
        "    else:\n",
        "        dp=625*0.05\n",
        "        price=625-dp\n",
        "elif seat=='Circle':\n",
        "    if pm=='Cash':\n",
        "        dp=750*0.1\n",
        "        price=750-dp\n",
        "    else:\n",
        "        dp=750*0.05\n",
        "        price=750-dp\n",
        "elif seat=='Upper class':\n",
        "    if pm=='Cash':\n",
        "        dp=850*0.1\n",
        "        price=850-dp\n",
        "    else:\n",
        "        dp=850*0.05\n",
        "        price=850-dp\n",
        "elif seat=='Box':\n",
        "    if pm=='Cash':\n",
        "        dp=1000*0.1\n",
        "        price=1000-dp\n",
        "    else:\n",
        "        dp=1000*0.05\n",
        "        price=1000-dp\n",
        "\n",
        "else: print('invalid type of seat')\n",
        "print('Cost of ticket:',price)"
      ],
      "execution_count": 15,
      "outputs": [
        {
          "output_type": "stream",
          "text": [
            "Type of seat:Box\n",
            "Payment Mode:Cash\n",
            "Cost of ticket: 900.0\n"
          ],
          "name": "stdout"
        }
      ]
    },
    {
      "cell_type": "code",
      "metadata": {
        "id": "mWNvxcGvSbny",
        "colab_type": "code",
        "colab": {
          "base_uri": "https://localhost:8080/",
          "height": 84
        },
        "outputId": "346318d1-20bc-48d7-ca6f-c2306fe02535"
      },
      "source": [
        "#4 energy needed to heat water\n",
        "m=int(input(\"Enter amount of water in Kilograms:\"))\n",
        "i=float(input(\"Enter intial temperature in celcius:\"))\n",
        "f=float(input(\"Enter final temperature in celcius:\"))\n",
        "q=m*(f-i)*4184\n",
        "print(q)"
      ],
      "execution_count": null,
      "outputs": [
        {
          "output_type": "stream",
          "text": [
            "Enter amount of water in Kilograms:2\n",
            "Enter intial temperature in celcius:0\n",
            "Enter final temperature in celcius:100\n",
            "836800.0\n"
          ],
          "name": "stdout"
        }
      ]
    },
    {
      "cell_type": "code",
      "metadata": {
        "id": "wCGmh627TVBB",
        "colab_type": "code",
        "colab": {
          "base_uri": "https://localhost:8080/",
          "height": 50
        },
        "outputId": "223456a7-829d-41fb-ce8f-ff7d8a9d4080"
      },
      "source": [
        "#5 month and season problem\n",
        "month=str(input(\"enter month: \"))\n",
        "if month=='December' or month=='January' or month=='February':\n",
        "    print(\"Winter\")\n",
        "elif  month=='March' or month=='April' or month=='May':\n",
        "    print(\"Spring\")\n",
        "elif  month=='June' or month=='July' or month=='August':\n",
        "    print(\"Summer\")\n",
        "else:\n",
        "    print(\"Autumn\")"
      ],
      "execution_count": null,
      "outputs": [
        {
          "output_type": "stream",
          "text": [
            "enter month: June\n",
            "Summer\n"
          ],
          "name": "stdout"
        }
      ]
    },
    {
      "cell_type": "code",
      "metadata": {
        "id": "9XhtdB-mTpI4",
        "colab_type": "code",
        "colab": {
          "base_uri": "https://localhost:8080/",
          "height": 84
        },
        "outputId": "2911e0ac-fa4a-4fb3-f884-91f8394b8899"
      },
      "source": [
        "#6 BMI\n",
        "weight=float(input(\"enter weight in pounds:\"))\n",
        "height=float(input(\"enter height in inches:\"))\n",
        "weight=weight*0.45359237\n",
        "height=height*0.0254\n",
        "bmi=weight/(height**2)\n",
        "if bmi<18.5:\n",
        "    print(\"Underweight\")\n",
        "elif bmi>=18.5 and bmi<25.0:\n",
        "    print(\"Normal\")\n",
        "elif bmi>=25.0 and bmi<30.0:\n",
        "    print(\"OverWeight\")\n",
        "else:\n",
        "    print(\"Obese\")\n",
        "print(\"BMI is:\",bmi)"
      ],
      "execution_count": 9,
      "outputs": [
        {
          "output_type": "stream",
          "text": [
            "enter weight in pounds:220.462\n",
            "enter height in inches:59.055\n",
            "Obese\n",
            "BMI is: 44.444569366961915\n"
          ],
          "name": "stdout"
        }
      ]
    },
    {
      "cell_type": "code",
      "metadata": {
        "id": "PhV4N5_gT5k7",
        "colab_type": "code",
        "colab": {
          "base_uri": "https://localhost:8080/",
          "height": 50
        },
        "outputId": "8d3f83c4-2c23-4eed-e852-b0dbae131890"
      },
      "source": [
        "#7 sum of digits\n",
        "num=int(input('Enter a number in between 100 and 1000: '))\n",
        "rem=0\n",
        "s=0\n",
        "if num>100 and num<1000:\n",
        "    while(num>0):\n",
        "        rem=num%10\n",
        "        s=s+rem\n",
        "        num=num//10\n",
        "print('sum of digits:',s)\n"
      ],
      "execution_count": 11,
      "outputs": [
        {
          "output_type": "stream",
          "text": [
            "Enter a number in between 100 and 1000: 179\n",
            "sum of digits: 17\n"
          ],
          "name": "stdout"
        }
      ]
    },
    {
      "cell_type": "code",
      "metadata": {
        "id": "_vGX7-j344ER",
        "colab_type": "code",
        "colab": {
          "base_uri": "https://localhost:8080/",
          "height": 54
        },
        "outputId": "3b600951-cb58-4a9f-8572-8bdf8f7e5929"
      },
      "source": [
        "#8 palindrome numbers\n",
        "for i in range(1,1001):\n",
        "    n=i\n",
        "    rev=0\n",
        "    while(i>0):\n",
        "        rev=rev*10 +i%10\n",
        "        i=i//10\n",
        "    if(n==rev):\n",
        "        print(n,end=\" \")"
      ],
      "execution_count": null,
      "outputs": [
        {
          "output_type": "stream",
          "text": [
            "1 2 3 4 5 6 7 8 9 11 22 33 44 55 66 77 88 99 101 111 121 131 141 151 161 171 181 191 202 212 222 232 242 252 262 272 282 292 303 313 323 333 343 353 363 373 383 393 404 414 424 434 444 454 464 474 484 494 505 515 525 535 545 555 565 575 585 595 606 616 626 636 646 656 666 676 686 696 707 717 727 737 747 757 767 777 787 797 808 818 828 838 848 858 868 878 888 898 909 919 929 939 949 959 969 979 989 999 "
          ],
          "name": "stdout"
        }
      ]
    },
    {
      "cell_type": "code",
      "metadata": {
        "id": "oCI_BOmj5OKD",
        "colab_type": "code",
        "colab": {
          "base_uri": "https://localhost:8080/",
          "height": 34
        },
        "outputId": "f4f6e9f9-9024-4627-8a49-a469dd9ddc8e"
      },
      "source": [
        "#9 Armstrong Numbers\n",
        "for num in range(1,1001):\n",
        "    sum=0\n",
        "    temp=num\n",
        "    while temp>0:\n",
        "        digit=temp%10\n",
        "        sum+=digit**3\n",
        "        temp//=10\n",
        "    if num==sum:\n",
        "        print(num,end=\" \")"
      ],
      "execution_count": null,
      "outputs": [
        {
          "output_type": "stream",
          "text": [
            "1 153 370 371 407 "
          ],
          "name": "stdout"
        }
      ]
    },
    {
      "cell_type": "code",
      "metadata": {
        "id": "T3n_YJb544AZ",
        "colab_type": "code",
        "colab": {
          "base_uri": "https://localhost:8080/",
          "height": 134
        },
        "outputId": "12f50c7e-7301-48ff-a0ff-8d0430d058be"
      },
      "source": [
        "#10 multiples of 3 and 5\n",
        "for i in range(1,101):\n",
        "    if i%3==0 and i%5==0:\n",
        "        print(\"fizz buzz\")\n",
        "    elif i%3==0:\n",
        "        print(\"Fizz\",end=' ')\n",
        "    elif i%5==0:\n",
        "        print(\"Buzz\",end=' ')\n",
        "    else: \n",
        "        print(i,end=' ')"
      ],
      "execution_count": null,
      "outputs": [
        {
          "output_type": "stream",
          "text": [
            "1 2 Fizz 4 Buzz Fizz 7 8 Fizz Buzz 11 Fizz 13 14 fizz buzz\n",
            "16 17 Fizz 19 Buzz Fizz 22 23 Fizz Buzz 26 Fizz 28 29 fizz buzz\n",
            "31 32 Fizz 34 Buzz Fizz 37 38 Fizz Buzz 41 Fizz 43 44 fizz buzz\n",
            "46 47 Fizz 49 Buzz Fizz 52 53 Fizz Buzz 56 Fizz 58 59 fizz buzz\n",
            "61 62 Fizz 64 Buzz Fizz 67 68 Fizz Buzz 71 Fizz 73 74 fizz buzz\n",
            "76 77 Fizz 79 Buzz Fizz 82 83 Fizz Buzz 86 Fizz 88 89 fizz buzz\n",
            "91 92 Fizz 94 Buzz Fizz 97 98 Fizz Buzz "
          ],
          "name": "stdout"
        }
      ]
    },
    {
      "cell_type": "code",
      "metadata": {
        "id": "idtkY3f_6AS5",
        "colab_type": "code",
        "colab": {
          "base_uri": "https://localhost:8080/",
          "height": 84
        },
        "outputId": "1033e7b2-7101-467f-bec2-047c2eb7a946"
      },
      "source": [
        "#11 spider problem\n",
        "h=int(input('Height of the well:'))\n",
        "u=int(input('meters climbed up in each step:'))\n",
        "d=int(input('meters slip down in each step:'))\n",
        "N=0\n",
        "while (u-d)*N<=(h-u):\n",
        "    N=N+1    \n",
        "print(N+1)"
      ],
      "execution_count": null,
      "outputs": [
        {
          "output_type": "stream",
          "text": [
            "Height of the well:500\n",
            "meters climbed up in each step:20\n",
            "meters slip down in each step:15\n",
            "98\n"
          ],
          "name": "stdout"
        }
      ]
    }
  ]
}